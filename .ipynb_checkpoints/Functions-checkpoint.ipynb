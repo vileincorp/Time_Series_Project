{
 "cells": [
  {
   "cell_type": "markdown",
   "metadata": {},
   "source": [
    "# PDQ function\n",
    "- finds the best pdq combination"
   ]
  },
  {
   "cell_type": "code",
   "execution_count": null,
   "metadata": {},
   "outputs": [],
   "source": [
    "def pdq_fitting(data, convergenceWarning=True, summary=False):\n",
    "    import warnings\n",
    "    from statsmodels.tools.sm_exceptions import ConvergenceWarning\n",
    "    from statsmodels.tsa.arima.model import ARIMA\n",
    "    '''\n",
    "    Function loops through finding the best p, d, q sequence\n",
    "    convergenceWarning: True = ignore convergence warnings, False = don't ignore\n",
    "    Summary: print for each pdq check\n",
    "    '''\n",
    "    results = []\n",
    "    for p in range(5):\n",
    "        for d in range(5):\n",
    "            for q in range(5):\n",
    "                # try, except to catch warnings and errors\n",
    "                try:\n",
    "                    # Catching Warnings\n",
    "                    with warnings.catch_warnings(record=True) as warn:\n",
    "                        if convergenceWarning: \n",
    "                            warnings.simplefilter(\"ignore\", ConvergenceWarning)\n",
    "                        model = ARIMA(data, order=(p, d, q)).fit()\n",
    "                    # If there is a warning, remove\n",
    "                    if warn: \n",
    "                        if summary:\n",
    "                            print(f\"\\n\\033[1m\\033[93m{warn[0].message}\\nWarning while fitting ARIMA model with p={p}, d={d}, q={q}. Skipping\\033[0m\")\n",
    "                            print(f\"{'-'*100}\\n\")\n",
    "                        else:\n",
    "                            continue\n",
    "                    # No Warning, keep\n",
    "                    else:    \n",
    "                        air_score = model.aic\n",
    "                        results.append((air_score, p, d, q))\n",
    "                        if summary:\n",
    "                            print(\"P of: \",p)\n",
    "                            print(\"d of: \",d)\n",
    "                            print(\"q of: \",q)\n",
    "                            print(\"AIR score: \", air_score)\n",
    "                            print(f\"{'-'*100}\\n\")\n",
    "\n",
    "                except Exception as e:\n",
    "                    print(f\"\\033[1m\\033[91m{e}\\nFailed to fit ARIMA model with p={p}, d={d}, q={q}. Skipping\\033[0m\")\n",
    "                    print(f\"{'-'*100}\\n\")\n",
    "\n",
    "    results.sort()\n",
    "    print(\"Best p, d, q for lowest AIR score: \")\n",
    "    print(\"P of: \", results[0][1])\n",
    "    print(\"d of: \", results[0][2])\n",
    "    print(\"q of: \", results[0][3])"
   ]
  },
  {
   "cell_type": "code",
   "execution_count": null,
   "metadata": {},
   "outputs": [],
   "source": []
  },
  {
   "cell_type": "code",
   "execution_count": null,
   "metadata": {},
   "outputs": [],
   "source": [
    "def stationary(*args):\n",
    "    pv = []\n",
    "    for data in args:\n",
    "        if adfuller(data)[1]< .05:\n",
    "            print(f'{adfuller(data)[1]< .05} With a pvlaue of {adfuller(data)[1]}\\n')\n",
    "            pv.append(adfuller(data)[1])\n",
    "        else:\n",
    "            print(f'{False}\\n')\n",
    "    if pv:\n",
    "        print(min(pv))"
   ]
  },
  {
   "cell_type": "markdown",
   "metadata": {},
   "source": [
    "# Time Series Performance"
   ]
  },
  {
   "cell_type": "code",
   "execution_count": null,
   "metadata": {},
   "outputs": [],
   "source": [
    "def ts_performance(data, pdq):\n",
    "    '''\n",
    "    pdq : (p,d,q)\n",
    "    '''\n",
    "    arma = ARIMA(data_diff,order= pdq).fit()\n",
    "    print(arma.mle_retvals)\n",
    "    print(arma.summary())\n",
    "    display(arma.plot_diagnostics(figsize=(16, 8)))\n"
   ]
  },
  {
   "cell_type": "markdown",
   "metadata": {},
   "source": [
    "# Plotting each individual row"
   ]
  },
  {
   "cell_type": "code",
   "execution_count": null,
   "metadata": {},
   "outputs": [],
   "source": [
    "def microplot(data, X, y_sort, limit=20, **kwargs):\n",
    "    '''\n",
    "    data : dataframe\n",
    "    x : x axis value\n",
    "    y_sort : y axis values and what the data gets sorted by\n",
    "    limit : limt for x output, default is 20\n",
    "    '''\n",
    "    \n",
    "    df_sorted = data.sort_values(by=y_sort, ascending=False, inplace=False)[:limit]\n",
    "    x_order = df_sorted[X].values.tolist()\n",
    "    fig, ax = plt.subplots(figsize=(18,12))\n",
    "    ax = sns.barplot(x= X, y= y_sort, data=df_sorted, palette= 'YlOrRd_r', order=x_order, **kwargs)\n",
    "    ax.set_title(f'{y_sort} vs. {X}', fontsize=15)\n",
    "    ax.set_xlabel(data[X].name, fontsize=15)\n",
    "    ax.set_ylabel(y_sort, fontsize=15)"
   ]
  },
  {
   "cell_type": "markdown",
   "metadata": {},
   "source": [
    "# Plotting each grouped data\n",
    "- Example is several houses are in the same state so groupby state and calculate the mean"
   ]
  },
  {
   "cell_type": "code",
   "execution_count": null,
   "metadata": {},
   "outputs": [],
   "source": [
    "def macroplot(data, group, y, limit=None ,**kwargs):\n",
    "    '''\n",
    "    group is the groupby, y is the what aggregate by so price, size\n",
    "    data : dataframe\n",
    "    group : groupby column\n",
    "    y : y column or target\n",
    "    limit : limit for x output\n",
    "    '''\n",
    "    states_df = data.groupby(by= group)[y].mean()\n",
    "    df_sorted = states_df.sort_values(ascending=False)[:limit]\n",
    "    x_order = df_sorted.index.tolist()\n",
    "        \n",
    "    fig, ax = plt.subplots(figsize=(18,12))\n",
    "    ax = sns.barplot(x=df_sorted.index, y= df_sorted.values, palette= 'YlOrRd_r', order=x_order, **kwargs)\n",
    "    ax.set_title(f'{y} vs. {group}', fontsize=15)\n",
    "    ax.set_xlabel(group, fontsize=15)\n",
    "    ax.set_ylabel(y, fontsize=15)"
   ]
  }
 ],
 "metadata": {
  "kernelspec": {
   "display_name": "Python 3",
   "language": "python",
   "name": "python3"
  },
  "language_info": {
   "codemirror_mode": {
    "name": "ipython",
    "version": 3
   },
   "file_extension": ".py",
   "mimetype": "text/x-python",
   "name": "python",
   "nbconvert_exporter": "python",
   "pygments_lexer": "ipython3",
   "version": "3.8.5"
  }
 },
 "nbformat": 4,
 "nbformat_minor": 4
}
