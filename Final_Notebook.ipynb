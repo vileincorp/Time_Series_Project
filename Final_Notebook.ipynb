{
 "cells": [
  {
   "cell_type": "markdown",
   "id": "6d8f530e",
   "metadata": {},
   "source": [
    "# Time Series Project\n",
    "![Time Series](https://marmore-assets-v2.s3.eu-west-1.amazonaws.com/insights/migrated/GCC-Stock-Markets-Positive-earnings-growth-strengthen-business-optimism_1200x600.jpeg)\n",
    "\n",
    "### By: Keanan Ginell, Luke Sims, Alvaro Rodriguez"
   ]
  },
  {
   "cell_type": "code",
   "execution_count": 1,
   "id": "432ecbd0",
   "metadata": {},
   "outputs": [],
   "source": [
    "#\"The expectations of life depend upon diligence; the mechanic that would perfect his work must first sharpen his tools.\"\n",
    "#- Confucius\n",
    "\n",
    "import pandas as pd\n",
    "import numpy as np\n",
    "from matplotlib import pyplot as plt\n",
    "import seaborn as sns\n",
    "\n",
    "from imblearn.over_sampling import SMOTE\n",
    "from imblearn.pipeline import Pipeline as ImPipeline\n",
    "\n",
    "import xgboost as xgb\n",
    "\n",
    "from sklearn.dummy import DummyClassifier\n",
    "from sklearn.neighbors import KNeighborsClassifier\n",
    "from sklearn.tree import DecisionTreeClassifier, plot_tree\n",
    "from sklearn.model_selection import train_test_split, GridSearchCV, cross_val_score\n",
    "from sklearn.pipeline import Pipeline\n",
    "from sklearn.preprocessing import StandardScaler, OneHotEncoder, FunctionTransformer\n",
    "from sklearn.impute import SimpleImputer\n",
    "from sklearn.compose import ColumnTransformer\n",
    "from sklearn.linear_model import LogisticRegression\n",
    "from sklearn.ensemble import RandomForestClassifier, GradientBoostingClassifier\n",
    "from sklearn.metrics import plot_confusion_matrix, recall_score,\\\n",
    "    accuracy_score, precision_score, f1_score\n",
    "from sklearn.ensemble import AdaBoostRegressor, GradientBoostingRegressor, \\\n",
    "AdaBoostClassifier, GradientBoostingClassifier\n",
    "from sklearn.tree import DecisionTreeRegressor\n",
    "from sklearn.metrics import classification_report\n",
    "from sklearn.model_selection import train_test_split, GridSearchCV\n",
    "from sklearn.pipeline import Pipeline\n",
    "from sklearn.preprocessing import StandardScaler\n",
    "from sklearn.decomposition import PCA\n",
    "from sklearn.metrics import confusion_matrix, plot_confusion_matrix,\\\n",
    "    precision_score, recall_score, accuracy_score, f1_score, log_loss,\\\n",
    "    roc_curve, roc_auc_score, classification_report, plot_roc_curve\n",
    "from sklearn.model_selection import StratifiedKFold\n",
    "from sklearn.model_selection import RandomizedSearchCV, GridSearchCV\n",
    "\n",
    "import warnings\n",
    "warnings.filterwarnings('ignore')\n",
    "\n",
    "\n",
    "import pandas as pd\n",
    "import numpy as np\n",
    "pd.set_option('display.max_rows', 1000)\n",
    "from datetime import datetime as dt\n",
    "\n",
    "import matplotlib.pyplot as plt\n",
    "import seaborn as sns\n",
    "plt.style.use('ggplot')\n",
    "\n",
    "from statsmodels.tsa.stattools import adfuller"
   ]
  },
  {
   "cell_type": "markdown",
   "id": "4c75bc24",
   "metadata": {},
   "source": [
    "# General Overview\n",
    "\n",
    "We will be forecasting real estate prices of various zip codes using data from Zillow Research in the Washington DC Area. For this project, we will be acting as a consultant for WASHINGTON MOVES real-estate investment firm. The firm has asked us what seems like simple questions:\n",
    "\n",
    "- What would be the forecasted prices for these homes after 2018?\n",
    "- What are the percent changes in return on investment in these areas based on the Median House Sales?\n",
    "- What are the top 5 best zip codes for us to invest in?\n",
    "- What model best shows the variance in house pricing in the DC area after 2018?\n",
    "\n",
    "There are many datasets on the Zillow Research Page, and making sure we have exactly what we need can be a bit confusing. For simplicity's sake, we have already provided the dataset for you in this repo -- you will find it in the file time-series/zillow_data.csv.\n",
    "\n",
    "The goal of this project is to help politicans either purchase their home in the area by observing the best time of entry in the market and for other politicians, would be the best time to sell as they are leaving DC after they are done working in Congress. "
   ]
  },
  {
   "cell_type": "markdown",
   "id": "ecaf2fa6",
   "metadata": {},
   "source": [
    "# Business Understanding"
   ]
  },
  {
   "cell_type": "markdown",
   "id": "84db2c3e",
   "metadata": {},
   "source": [
    "Every 2-6 years elected officials from all across the nation and their families have to navigate the DC real estate market to find the best investment/property to reside. This is additional stressor and creates an artificial real estate bubble that can adversely effect the local real estate market. \n",
    "\n",
    "Our company uses a predictive time series to help elected officials purchase and sell their property to maximize their returns while they serve the nation."
   ]
  },
  {
   "cell_type": "markdown",
   "id": "c123081f",
   "metadata": {},
   "source": [
    "# Data Understanding\n",
    "\n",
    "The data was collected from Zillow's Research Page, where there were about 3.4 million homes all over the United States. We narrowed it down to 11,395 homes in the 21 counties of Washington DC. The timeline of the house prices varied from 1991 to 2018 in which the prices ranged from a minimum of $30200 - $ 1.6 million (USD)."
   ]
  },
  {
   "cell_type": "markdown",
   "id": "1df795a2",
   "metadata": {},
   "source": [
    "# Models"
   ]
  },
  {
   "cell_type": "markdown",
   "id": "f4de2b5d",
   "metadata": {},
   "source": [
    "# Conclusion"
   ]
  },
  {
   "cell_type": "markdown",
   "id": "68e3db74",
   "metadata": {},
   "source": [
    "# Next Steps"
   ]
  }
 ],
 "metadata": {
  "kernelspec": {
   "display_name": "Python 3",
   "language": "python",
   "name": "python3"
  },
  "language_info": {
   "codemirror_mode": {
    "name": "ipython",
    "version": 3
   },
   "file_extension": ".py",
   "mimetype": "text/x-python",
   "name": "python",
   "nbconvert_exporter": "python",
   "pygments_lexer": "ipython3",
   "version": "3.8.5"
  }
 },
 "nbformat": 4,
 "nbformat_minor": 5
}
